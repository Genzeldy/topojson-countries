{
 "cells": [
  {
   "cell_type": "code",
   "execution_count": 1,
   "metadata": {},
   "outputs": [],
   "source": [
    "import json"
   ]
  },
  {
   "cell_type": "code",
   "execution_count": 9,
   "metadata": {},
   "outputs": [],
   "source": [
    "with open(\"israel.json\", \"r\") as f:\n",
    "    israel_json = json.loads(f.read())"
   ]
  },
  {
   "cell_type": "code",
   "execution_count": 15,
   "metadata": {},
   "outputs": [
    {
     "name": "stdout",
     "output_type": "stream",
     "text": [
      "אילת\n"
     ]
    }
   ],
   "source": [
    "print(israel_json[\"objects\"][\"places\"][\"geometries\"][0][\"properties\"][\"name\"])"
   ]
  },
  {
   "cell_type": "code",
   "execution_count": 17,
   "metadata": {},
   "outputs": [
    {
     "name": "stdout",
     "output_type": "stream",
     "text": [
      "אילת\n",
      "אשודוד\n",
      "אשקלון\n",
      "באר יעקב\n",
      "באר שבע\n",
      "בית שמש\n",
      "בני ברק\n",
      "בני דרור\n",
      "בת ים\n",
      "גבעת שמואל\n",
      "גבעתיים\n",
      "גדרה\n",
      "דימונה\n",
      "הוד השרון\n",
      "הרצליה\n",
      "זכרון יעקב\n",
      "חדרה\n",
      "חולון\n",
      "חיפה\n",
      "טבריה\n",
      "יבנה\n",
      "יהוד\n",
      "ירושלים\n",
      "כפר סבא\n",
      "כרמיאל\n",
      "לוד\n",
      "מבשרת ציון\n",
      "מגדל העמק\n",
      "מודיעין\n",
      "מעלה אדומים\n",
      "נהריה\n",
      "נוף הגליל\n",
      "נס ציונה\n",
      "נצרת\n",
      "נשר\n",
      "נתניה\n",
      "עכו\n",
      "עפולה\n",
      "פרדס חנה - כרכור\n",
      "פתח תקוה\n",
      "צפת\n",
      "קריית אונו\n",
      "קריית אתא\n",
      "קריית ביאליק\n",
      "קריית גת\n",
      "קריית ים\n",
      "קריית מוצקין\n",
      "קריית מלאכי\n",
      "קריית שמונה\n",
      "ראש העין\n",
      "ראשון לציון\n",
      "רחובות\n",
      "רמלה\n",
      "רמת גן\n",
      "רמת השרון\n",
      "רעננה\n",
      "תל אביב יפו\n"
     ]
    }
   ],
   "source": [
    "for place in israel_json[\"objects\"][\"places\"][\"geometries\"]:\n",
    "    print(place[\"properties\"][\"name\"])"
   ]
  },
  {
   "cell_type": "code",
   "execution_count": null,
   "metadata": {},
   "outputs": [],
   "source": []
  }
 ],
 "metadata": {
  "kernelspec": {
   "display_name": "Python 3",
   "language": "python",
   "name": "python3"
  },
  "language_info": {
   "codemirror_mode": {
    "name": "ipython",
    "version": 3
   },
   "file_extension": ".py",
   "mimetype": "text/x-python",
   "name": "python",
   "nbconvert_exporter": "python",
   "pygments_lexer": "ipython3",
   "version": "3.11.4"
  },
  "orig_nbformat": 4
 },
 "nbformat": 4,
 "nbformat_minor": 2
}
